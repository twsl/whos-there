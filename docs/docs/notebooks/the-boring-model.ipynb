{
 "cells": [
  {
   "attachments": {},
   "cell_type": "markdown",
   "metadata": {},
   "source": [
    "# The Boring Model\n"
   ]
  },
  {
   "attachments": {},
   "cell_type": "markdown",
   "metadata": {},
   "source": [
    "## Setup Env\n"
   ]
  },
  {
   "cell_type": "code",
   "execution_count": null,
   "metadata": {},
   "outputs": [],
   "source": [
    "%pip install torch lightning whos-there --upgrade"
   ]
  },
  {
   "attachments": {},
   "cell_type": "markdown",
   "metadata": {},
   "source": [
    "## Dependencies\n"
   ]
  },
  {
   "cell_type": "code",
   "execution_count": null,
   "metadata": {},
   "outputs": [],
   "source": [
    "from pathlib import Path\n",
    "from typing import Optional\n",
    "\n",
    "import lightning.pytorch as pl\n",
    "import torch\n",
    "from torch.nn import functional as F  # noqa: N812\n",
    "from torch.utils.data import DataLoader, Dataset\n",
    "\n",
    "from whos_there.callback import NotificationCallback\n",
    "from whos_there.senders.debug import DebugSender\n",
    "\n",
    "tmpdir = Path.cwd()"
   ]
  },
  {
   "attachments": {},
   "cell_type": "markdown",
   "metadata": {},
   "source": [
    "## Data\n",
    "\n",
    "Random data is best for debugging. If you needs special tensor shapes or batch compositions or dataloaders, modify as needed\n"
   ]
  },
  {
   "cell_type": "code",
   "execution_count": null,
   "metadata": {},
   "outputs": [],
   "source": [
    "class RandomDataset(Dataset):\n",
    "    def __init__(self, size, num_samples):\n",
    "        self.len = num_samples\n",
    "        self.data = torch.randn(num_samples, size)\n",
    "\n",
    "    def __getitem__(self, index):\n",
    "        return self.data[index]\n",
    "\n",
    "    def __len__(self):\n",
    "        return self.len"
   ]
  },
  {
   "cell_type": "code",
   "execution_count": null,
   "metadata": {},
   "outputs": [],
   "source": [
    "class RandomDataModule(pl.LightningDataModule):\n",
    "    def __init__(self, size: int = 32, num_samples: int = 10000, batch_size: int = 32):\n",
    "        super().__init__()\n",
    "        self.size = size\n",
    "        self.num_sampes = num_samples\n",
    "        self.batch_size = batch_size\n",
    "\n",
    "    def setup(self, stage: str | None = None):\n",
    "        self.mnist_test = RandomDataset(self.size, self.num_sampes)\n",
    "        self.mnist_train = RandomDataset(self.size, self.num_sampes)\n",
    "        self.mnist_val = RandomDataset(self.size, self.num_sampes)\n",
    "\n",
    "    def train_dataloader(self):\n",
    "        return DataLoader(self.mnist_train, batch_size=self.batch_size)\n",
    "\n",
    "    def val_dataloader(self):\n",
    "        return DataLoader(self.mnist_val, batch_size=self.batch_size)\n",
    "\n",
    "    def test_dataloader(self):\n",
    "        return DataLoader(self.mnist_test, batch_size=self.batch_size)"
   ]
  },
  {
   "attachments": {},
   "cell_type": "markdown",
   "metadata": {},
   "source": [
    "## Model\n",
    "\n",
    "Modify this as needed to replicate your bug\n"
   ]
  },
  {
   "cell_type": "code",
   "execution_count": null,
   "metadata": {},
   "outputs": [],
   "source": [
    "from typing import Any\n",
    "\n",
    "from lightning.pytorch import LightningModule\n",
    "from torch import Tensor\n",
    "\n",
    "\n",
    "class BoringModel(LightningModule):\n",
    "    def __init__(self) -> None:\n",
    "        super().__init__()\n",
    "        self.layer = torch.nn.Linear(32, 2)\n",
    "\n",
    "    def forward(self, x: Tensor, *args, **kwargs) -> Tensor:\n",
    "        return self.layer(x)\n",
    "\n",
    "    def loss(self, batch, prediction):\n",
    "        # An arbitrary loss to have a loss that updates the model weights during `Trainer.fit` calls\n",
    "        return torch.nn.functional.mse_loss(prediction, torch.ones_like(prediction))\n",
    "\n",
    "    def training_step(self, batch, batch_idx) -> dict[str, Any]:\n",
    "        output = self.layer(batch)\n",
    "        loss = self.loss(batch, output)\n",
    "        return {\"loss\": loss}\n",
    "\n",
    "    def training_step_end(self, training_step_outputs) -> Any:\n",
    "        return training_step_outputs\n",
    "\n",
    "    def training_epoch_end(self, outputs) -> None:\n",
    "        torch.stack([x[\"loss\"] for x in outputs]).mean()\n",
    "\n",
    "    def validation_step(self, batch, batch_idx) -> dict[str, Any]:\n",
    "        output = self.layer(batch)\n",
    "        loss = self.loss(batch, output)\n",
    "        return {\"x\": loss}\n",
    "\n",
    "    def validation_epoch_end(self, outputs) -> None:\n",
    "        torch.stack([x[\"x\"] for x in outputs]).mean()\n",
    "\n",
    "    def test_step(self, batch, batch_idx) -> dict[str, Any]:\n",
    "        output = self.layer(batch)\n",
    "        loss = self.loss(batch, output)\n",
    "        self.log(\"fake_test_acc\", loss)\n",
    "        return {\"y\": loss}\n",
    "\n",
    "    def test_epoch_end(self, outputs) -> None:\n",
    "        torch.stack([x[\"y\"] for x in outputs]).mean()\n",
    "\n",
    "    def configure_optimizers(self) -> tuple[list[Any], list[Any]]:\n",
    "        optimizer = torch.optim.SGD(self.layer.parameters(), lr=0.1)\n",
    "        lr_scheduler = torch.optim.lr_scheduler.StepLR(optimizer, step_size=1)\n",
    "        return [optimizer], [lr_scheduler]"
   ]
  },
  {
   "attachments": {},
   "cell_type": "markdown",
   "metadata": {},
   "source": [
    "## Training\n"
   ]
  },
  {
   "cell_type": "code",
   "execution_count": null,
   "metadata": {},
   "outputs": [],
   "source": [
    "dm = RandomDataModule()\n",
    "\n",
    "model = BoringModel()\n",
    "\n",
    "# Initialize a trainer\n",
    "trainer = pl.Trainer(\n",
    "    max_epochs=1,\n",
    "    callbacks=[\n",
    "        NotificationCallback(\n",
    "            senders=[\n",
    "                DebugSender(print=True),\n",
    "            ]\n",
    "        )\n",
    "    ],\n",
    ")\n",
    "\n",
    "# Train the model ⚡\n",
    "trainer.fit(model, datamodule=dm)\n",
    "\n",
    "trainer.test(datamodule=dm)"
   ]
  }
 ],
 "metadata": {
  "language_info": {
   "name": "python"
  }
 },
 "nbformat": 4,
 "nbformat_minor": 2
}
